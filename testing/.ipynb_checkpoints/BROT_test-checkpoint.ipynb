{
 "cells": [
  {
   "cell_type": "code",
   "execution_count": 156,
   "id": "67543cef-1962-4cd6-aaad-c50f67dfa10f",
   "metadata": {
    "tags": []
   },
   "outputs": [],
   "source": [
    "import pyads\n",
    "from ctypes import sizeof\n",
    "from astropy.time import Time\n",
    "from astropy.coordinates import EarthLocation, Longitude\n",
    "from astropy import units as u\n",
    "import datetime\n",
    "from time import sleep\n",
    "import matplotlib.pyplot as plt"
   ]
  },
  {
   "cell_type": "code",
   "execution_count": 3,
   "id": "c15a00d9-cb42-4d86-a880-9ff94413a69d",
   "metadata": {},
   "outputs": [
    {
     "name": "stdout",
     "output_type": "stream",
     "text": [
      "Connecting to TwinCAT PLC..\n",
      "Current connection status: True\n",
      "Current Status: (5, 0)\n",
      "Closing the Connections..\n",
      "Current Status: False\n"
     ]
    }
   ],
   "source": [
    "# for simple connection follow instructions of:\n",
    "# http://soup01.com/en/2022/06/02/beckhoffusing-python-to-communicate-with-twincat-by-ads/\n",
    "\n",
    "ads_net_id = '134.76.204.249.1.1' # net_id of PLC -> look at SYSTEM/Tasks/Routes\n",
    "plc = pyads.Connection(ads_net_id, pyads.PORT_TC3PLC1) # create plc object with net_id and port 851\n",
    "\n",
    "print(\"Connecting to TwinCAT PLC..\")\n",
    "plc.open() # open plc connection\n",
    "print(\"Current connection status:\",plc.is_open)\n",
    "print(\"Current Status:\",plc.read_state())\n",
    "\n",
    "print(\"Closing the Connections..\")\n",
    "plc.close()\n",
    "print(\"Current Status:\",plc.is_open)"
   ]
  },
  {
   "cell_type": "code",
   "execution_count": 10,
   "id": "ad99f159-dce3-40fa-9f4a-969a9e96a420",
   "metadata": {
    "tags": []
   },
   "outputs": [
    {
     "data": {
      "text/plain": [
       "'\\nADSSTATES:\\n{\\n    Invalid = 0,\\n    Idle = 1,\\n    Reset = 2,\\n    Init = 3,\\n    Start = 4,\\n    Run = 5,\\n    Stop = 6,\\n    SaveConfig = 7,\\n    LoadConfig = 8,\\n    PowerFailure = 9,\\n    PowerGood = 10,\\n    Error = 11,\\n    Shutdown = 12,\\n    Suspend = 13,\\n    Resume = 14,\\n    Config = 15,\\n    Reconfig = 16,\\n    Maxstates = 17,\\n}\\n'"
      ]
     },
     "execution_count": 10,
     "metadata": {},
     "output_type": "execute_result"
    }
   ],
   "source": [
    "'''\n",
    "ADSSTATES:\n",
    "{\n",
    "    Invalid = 0,\n",
    "    Idle = 1,\n",
    "    Reset = 2,\n",
    "    Init = 3,\n",
    "    Start = 4,\n",
    "    Run = 5,\n",
    "    Stop = 6,\n",
    "    SaveConfig = 7,\n",
    "    LoadConfig = 8,\n",
    "    PowerFailure = 9,\n",
    "    PowerGood = 10,\n",
    "    Error = 11,\n",
    "    Shutdown = 12,\n",
    "    Suspend = 13,\n",
    "    Resume = 14,\n",
    "    Config = 15,\n",
    "    Reconfig = 16,\n",
    "    Maxstates = 17,\n",
    "}\n",
    "'''"
   ]
  },
  {
   "cell_type": "code",
   "execution_count": 20,
   "id": "aa87e7db-1f5d-4dbd-ae54-847b7edcfa3b",
   "metadata": {
    "tags": []
   },
   "outputs": [
    {
     "name": "stdout",
     "output_type": "stream",
     "text": [
      "Connecting to TwinCAT PLC..\n",
      "Current connection status: True\n",
      "MAIN.fbJD2LST_Test.HasStartedRunning is: True\n",
      "MAIN.fbJD2LST_Test.HasStartedRunning is: False\n",
      "Current Status: False\n"
     ]
    }
   ],
   "source": [
    "print(\"Connecting to TwinCAT PLC..\")\n",
    "plc.open() # open plc connection\n",
    "print(\"Current connection status:\",plc.is_open)\n",
    "\n",
    "var=plc.read_by_name(data_name='MAIN.fbJD2LST_Test.HasStartedRunning',plc_datatype=pyads.PLCTYPE_BOOL)\n",
    "print('MAIN.fbJD2LST_Test.HasStartedRunning is:',var)\n",
    "plc.write_by_name(data_name='MAIN.fbJD2LST_Test.HasStartedRunning', value=False)\n",
    "var=plc.read_by_name(data_name='MAIN.fbJD2LST_Test.HasStartedRunning',plc_datatype=pyads.PLCTYPE_BOOL)\n",
    "print('MAIN.fbJD2LST_Test.HasStartedRunning is:',var)\n",
    "plc.close()\n",
    "print(\"Current Status:\",plc.is_open)"
   ]
  },
  {
   "cell_type": "code",
   "execution_count": 163,
   "id": "74a53544-d30a-4760-9178-085c3d9bcfb2",
   "metadata": {
    "tags": []
   },
   "outputs": [
    {
     "name": "stdout",
     "output_type": "stream",
     "text": [
      "(273.0167453178526, 273.0167163546524)\n"
     ]
    }
   ],
   "source": [
    "def test_JD2LST(time = datetime.datetime.now(), loc = [51.55931126132681, 9.945392608768366, 200]) -> (float, float):\n",
    "    # all values with _astro are computed using astropy\n",
    "    # _beck are values from beckhoff\n",
    "    # loc [lat deg,lon deg, height m], standart is IAG telescope\n",
    "    \n",
    "    # JD time\n",
    "    timeJD_astro = Time(time).jd\n",
    "    loc_astro = EarthLocation(lat=loc[0]*u.deg, lon=loc[1]*u.deg, height=loc[2]*u.m).geodetic\n",
    "    #LST time\n",
    "    LST_astro =  Time(timeJD_astro, format='jd', location=loc_astro).sidereal_time('mean')\n",
    "\n",
    "\n",
    "    #------------------------------------------------------------------------------------------\n",
    "    plc.open() # open plc connection\n",
    "\n",
    "    # get relevant symbols _b for beckhoff\n",
    "    lat_b = plc.get_symbol('MAIN.lat')\n",
    "    lon_b = plc.get_symbol('MAIN.lon')\n",
    "    height_b = plc.get_symbol('MAIN.height')\n",
    "    jd1_b = plc.get_symbol('MAIN.jd1')\n",
    "    lst1_b = plc.get_symbol('MAIN.lst1')\n",
    "\n",
    "    # write values to symbols\n",
    "    lat_b.write(loc[0])\n",
    "    lon_b.write(loc[1])\n",
    "    height_b.write(loc[2])\n",
    "    jd1_b.write(timeJD_astro)\n",
    "    # change estate to execute test -> 5 == test_state.JD2LST\n",
    "    plc.write_by_name(data_name='MAIN.estate', value=5,plc_datatype=pyads.PLCTYPE_INT)\n",
    "    sleep(0.05) # new cyle of twincat\n",
    "    # get LST value\n",
    "    LST_beck =  lst1_b.read()\n",
    "    plc.close()\n",
    "    #------------------------------------------------------------------------------------------\n",
    "    return LST_astro.degree, LST_beck\n",
    "\n",
    "# test run\n",
    "print(test_JD2LST())"
   ]
  },
  {
   "cell_type": "code",
   "execution_count": 157,
   "id": "71596743-cf64-4877-b9ad-6a7c9950260e",
   "metadata": {
    "tags": []
   },
   "outputs": [
    {
     "data": {
      "image/png": "[encoded data removed]",
      "text/plain": [
       "<Figure size 640x480 with 1 Axes>"
      ]
     },
     "metadata": {},
     "output_type": "display_data"
    }
   ],
   "source": [
    "plt.hist(s)\n",
    "plt.show()"
   ]
  },
  {
   "cell_type": "code",
   "execution_count": null,
   "id": "39b98c79-9018-41e4-a81c-61e89a49fb0a",
   "metadata": {},
   "outputs": [],
   "source": []
  }
 ],
 "metadata": {
  "kernelspec": {
   "display_name": "Python 3 (ipykernel)",
   "language": "python",
   "name": "python3"
  },
  "language_info": {
   "codemirror_mode": {
    "name": "ipython",
    "version": 3
   },
   "file_extension": ".py",
   "mimetype": "text/x-python",
   "name": "python",
   "nbconvert_exporter": "python",
   "pygments_lexer": "ipython3",
   "version": "3.11.5"
  }
 },
 "nbformat": 4,
 "nbformat_minor": 5
}
